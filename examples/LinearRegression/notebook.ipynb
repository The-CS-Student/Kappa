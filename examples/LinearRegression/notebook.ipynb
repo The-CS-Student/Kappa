{
 "cells": [
  {
   "cell_type": "code",
   "execution_count": 2,
   "metadata": {},
   "outputs": [],
   "source": [
    "import kappa.regression\n",
    "import kappa.preprocessing\n",
    "import kappa.metrics\n",
    "import pandas as pd\n",
    "import numpy as np\n",
    "#importing libraries\n"
   ]
  },
  {
   "cell_type": "code",
   "execution_count": 3,
   "metadata": {},
   "outputs": [],
   "source": [
    "data = pd.read_csv(\"RealEstate.csv\")\n",
    "feature_cols = [\"X1\",\"X2\",\"X3\",\"X4\",\"X5\",\"X6\"]\n",
    "X = data[feature_cols].values.tolist()\n",
    "y = data[\"Y\"].to_numpy()\n",
    "Y = []\n",
    "for i in range(len(y)):\n",
    "\tY.append([y[i]])\n",
    "#preprocessing data"
   ]
  },
  {
   "cell_type": "code",
   "execution_count": 4,
   "metadata": {},
   "outputs": [
    {
     "name": "stdout",
     "output_type": "stream",
     "text": [
      "Root Mean Squared Error : 9.335061049176293\n",
      "[32.22754844] [25.5]\n"
     ]
    }
   ],
   "source": [
    "trainX,trainY,testX,testY = kappa.preprocessing.split(X,Y,0.7)\n",
    "model = kappa.regression.LinearRegression(trainX,trainY)\n",
    "model.fit()\n",
    "kappa.metrics.rmse(testY,model.predict(testX))\n"
   ]
  },
  {
   "cell_type": "code",
   "execution_count": null,
   "metadata": {},
   "outputs": [],
   "source": []
  }
 ],
 "metadata": {
  "kernelspec": {
   "display_name": "Python 3",
   "language": "python",
   "name": "python3"
  },
  "language_info": {
   "codemirror_mode": {
    "name": "ipython",
    "version": 3
   },
   "file_extension": ".py",
   "mimetype": "text/x-python",
   "name": "python",
   "nbconvert_exporter": "python",
   "pygments_lexer": "ipython3",
   "version": "3.7.3"
  }
 },
 "nbformat": 4,
 "nbformat_minor": 4
}
